{
 "cells": [
  {
   "cell_type": "markdown",
   "id": "a5d10eac",
   "metadata": {},
   "source": [
    "# Descripción Estadística de Casos Nuevos diarios, Fallecimientos acumulados y Ocupación de Camas UCI diarias por COVID para V Region\n",
    "por Dr. Egidio Céspedes, Científico de Datos, SEREMI V Región"
   ]
  },
  {
   "cell_type": "markdown",
   "id": "747813e8",
   "metadata": {},
   "source": [
    "Datos          : https://github.com/MinCiencia/Datos-COVID19\n",
    "\n",
    "Fuente Casos Chile   : Ministerio de Salud. Ver en: https://www.minsal.cl/nuevo-coronavirus-2019-ncov/casos-confirmados-en-chile-covid-19/\n",
    "\n",
    "Fuente Casos Mundo   :  Our World in Data. Oxford Martin School, University of Oxford. Ver en: https://ourworldindata.org/coronavirus-source-data \n",
    "\n",
    "Fuente UCI Chile    : Reporte diario del Ministerio de Salud. Ver en: https://www.gob.cl/coronavirus/cifrasoficiales/#reportes\n",
    "\n",
    "Fuente Muertos : Reporte diario del Ministerio de Salud. Ver en: https://www.gob.cl/coronavirus/cifrasoficiales/#reportes\n",
    "\n",
    "Fuente Muertos Mundo   :  Our World in Data. Oxford Martin School, University of Oxford. Ver en: https://ourworldindata.org/coronavirus-source-data\n",
    "\n",
    "Datos de Actualización Diaria"
   ]
  },
  {
   "cell_type": "code",
   "execution_count": 1,
   "id": "c370488d",
   "metadata": {},
   "outputs": [],
   "source": [
    "import pandas as pd\n",
    "import matplotlib.pyplot as plt\n",
    "import numpy as np"
   ]
  },
  {
   "cell_type": "markdown",
   "id": "85619e75",
   "metadata": {},
   "source": [
    "Se leen las BDs desde GitHub directamente"
   ]
  },
  {
   "cell_type": "code",
   "execution_count": 2,
   "id": "0d2d97c3",
   "metadata": {},
   "outputs": [],
   "source": [
    "#Se leen las BDs chilenas desde GitHub directamente.\n",
    "TxR = pd.read_csv(\"https://raw.githubusercontent.com/MinCiencia/Datos-COVID19/master/output/producto3/TotalesPorRegion_T.csv\")\n",
    "UCI = pd.read_csv(\"https://raw.githubusercontent.com/MinCiencia/Datos-COVID19/master/output/producto8/UCI_T.csv\")\n",
    "MxD = pd.read_csv(\"https://raw.githubusercontent.com/MinCiencia/Datos-COVID19/master/output/producto14/FallecidosCumulativo_T.csv\")\n",
    "\n",
    "#Se leen las BDs del mundo desde GitHub directamente\n",
    "NewCases=pd.read_csv(\"https://raw.githubusercontent.com/owid/covid-19-data/master/public/data/jhu/new_cases.csv\")\n",
    "Deads=pd.read_csv(\"https://raw.githubusercontent.com/owid/covid-19-data/master/public/data/jhu/new_deaths.csv\")"
   ]
  },
  {
   "cell_type": "markdown",
   "id": "56df4978",
   "metadata": {},
   "source": [
    "Se modifican las BDs, se dejan solo datos necesarios y se dejan columnas en formato fecha correspondiente"
   ]
  },
  {
   "cell_type": "code",
   "execution_count": 3,
   "id": "00a20160",
   "metadata": {},
   "outputs": [],
   "source": [
    "def muertos(df):\n",
    "    a=0\n",
    "    lista=[]\n",
    "    for i in df.Valparaíso:\n",
    "        lista.append(i-a)\n",
    "        a=i\n",
    "    df['Valparaíso']=lista\n",
    "    \n",
    "    b=0\n",
    "    lista2=[]\n",
    "    for i in df.Total:\n",
    "        lista2.append(i-b)\n",
    "        b=i\n",
    "    df['Total']=lista2"
   ]
  },
  {
   "cell_type": "code",
   "execution_count": 4,
   "id": "68cf625a",
   "metadata": {},
   "outputs": [],
   "source": [
    "Casos=pd.concat([TxR[['Region']].drop(TxR[['Region']].index[[0]]),\n",
    "                 TxR.iloc[:,19:35].drop(TxR.iloc[:,19:34].index[[0]]).apply(pd.to_numeric).apply(pd.to_numeric)], \n",
    "                axis=1)\n",
    "Casos=Casos.rename(columns={'Region':'Fecha','Valparaíso.1':'Valparaíso','Total.1':'Total'})\n",
    "Casos.Fecha=pd.to_datetime(Casos.Fecha)\n",
    "\n",
    "MxD=MxD.rename(columns={'Region':'Fecha'})\n",
    "MxD.Fecha=pd.to_datetime(MxD.Fecha)\n",
    "muertos(MxD)\n",
    "\n",
    "UCI=UCI.rename(columns={'Region':'Fecha'})\n",
    "UCI=pd.concat([UCI.Fecha.drop(UCI.Fecha.index[[0,1]]),\n",
    "               UCI.iloc[:,1:].drop(UCI.index[[0,1]]).apply(pd.to_numeric)],\n",
    "              axis=1)\n",
    "drop=UCI.drop(['Fecha'], axis=1)\n",
    "UCI.Fecha=pd.to_datetime(UCI.Fecha)\n",
    "UCI['Total']=drop.sum(axis=1)"
   ]
  },
  {
   "cell_type": "markdown",
   "id": "7eb721b9",
   "metadata": {},
   "source": [
    "Se crean las funciones que generan el reporte"
   ]
  },
  {
   "cell_type": "code",
   "execution_count": 5,
   "id": "71373b3a",
   "metadata": {},
   "outputs": [],
   "source": [
    "def informe_nac(df,name):\n",
    "    M=pd.DataFrame([df['Total'].mean(),\n",
    "                    df['Total'].sum(),\n",
    "                    df['Total'].mean().pct_change()])\n",
    "    M=M.T\n",
    "    M.columns = ['Prom_Sem_Nac'+name,'Total_Nac'+name,'Velocidad_Nac'+name]\n",
    "    M.drop(M.tail(1).index,inplace=True)\n",
    "    return M\n",
    "\n",
    "def informe_valpo(df,name):\n",
    "    M=pd.DataFrame([df['Valparaíso'].mean(),\n",
    "                    df['Valparaíso'].sum(),\n",
    "                    df['Valparaíso'].mean().pct_change()])\n",
    "    M=M.T\n",
    "    M.columns = ['Prom_Sem_Valp'+name,'Total_Valp'+name,'Velocidad_Valp'+name]\n",
    "    M.drop(M.tail(1).index,inplace=True)\n",
    "    return M\n",
    "\n",
    "def informe_pais(df1,df2,name):\n",
    "    df1.rename(columns={'date': 'Fecha'}, inplace=True)\n",
    "    df1.Fecha=pd.to_datetime(NewCases.Fecha)\n",
    "    agrupados1=df1.groupby([pd.Grouper(key='Fecha', freq='W-SUN')])\n",
    "    M=pd.DataFrame([agrupados1[name].mean(),\n",
    "                    agrupados1[name].sum(),\n",
    "                    agrupados1[name].mean().pct_change()])\n",
    "    M=M.T\n",
    "    M.columns = ['Prom_Sem_Casos_'+name,'Total_Sem_Casos_'+name,'Velocidad_Sem_Casos_'+name]\n",
    "    \n",
    "    df2.rename(columns={'date': 'Fecha'}, inplace=True)\n",
    "    df2.Fecha=pd.to_datetime(NewCases.Fecha)\n",
    "    agrupados2=df2.groupby([pd.Grouper(key='Fecha', freq='W-SUN')])\n",
    "    F=pd.DataFrame([agrupados2[name].mean(),\n",
    "                    agrupados2[name].sum(),\n",
    "                    agrupados2[name].mean().pct_change()])\n",
    "    F=F.T\n",
    "    F.columns = ['Prom_Sem_Muertes_'+name,'Total_Sem_Muertes_'+name,'Velocidad_Muertes_Casos_'+name]\n",
    "    \n",
    "    Z=pd.concat([M,F],axis=1)\n",
    "    #Z.drop(Z.tail(1).index,inplace=True)\n",
    "    Z=Z.tail(10)\n",
    "    return Z"
   ]
  },
  {
   "cell_type": "code",
   "execution_count": 6,
   "id": "015ed64f",
   "metadata": {},
   "outputs": [],
   "source": [
    "Casos2 = Casos.groupby([pd.Grouper(key='Fecha', freq='W-SUN')])\n",
    "UCI2   = UCI.groupby([pd.Grouper(key='Fecha', freq='W-SUN')])\n",
    "MxD2   = MxD.groupby([pd.Grouper(key='Fecha', freq='W-SUN')])"
   ]
  },
  {
   "cell_type": "code",
   "execution_count": 7,
   "id": "deaed663",
   "metadata": {},
   "outputs": [],
   "source": [
    "Valpo =pd.concat([informe_valpo(Casos2,'_Casos').tail(10),\n",
    "           informe_valpo(UCI2,'_UCI').tail(10),\n",
    "           informe_valpo(MxD2,'_Muertes').tail(10)], \n",
    "                 axis=1)"
   ]
  },
  {
   "cell_type": "code",
   "execution_count": 8,
   "id": "c12ed752",
   "metadata": {},
   "outputs": [],
   "source": [
    "Chile=pd.concat([informe_nac(Casos2,'_Casos').tail(10),\n",
    "           informe_nac(UCI2,'_UCI').tail(10),\n",
    "           informe_nac(MxD2,'_Muertes').tail(10)],\n",
    "                axis=1)"
   ]
  },
  {
   "cell_type": "code",
   "execution_count": 9,
   "id": "bc51db7b-9e3d-44b8-a1c4-bf75e5d4a13b",
   "metadata": {},
   "outputs": [],
   "source": [
    "class Navegador():\n",
    "    def __init__(self):\n",
    "        print('**Inicio Modulo Navegador**\\n')\n",
    "        self.TS_inicial=dt.datetime.now()\n",
    "        self.hoy=datetime.today().strftime('%d-%m-%Y').replace('-',\"\")\n",
    "        self.nombre_archivo = None\n",
    "    \n",
    "    def TS():\n",
    "    \tt = dt.datetime.now().strftime('%m/%d %H:%M:%S')\n",
    "    \tevol = str((dt.datetime.now() - self.TS_inicial).seconds)\n",
    "    \treturn str(t + '| [' + evol + 's]:')\n",
    "\n",
    "    def custom_print(self, message_to_print, nombre=None):\n",
    "    \t# Le asigno el nombre de la fecha y hora si no tiene nombre previo\n",
    "    \tif nombre is None:\n",
    "    \t\tfile_name ='LOG_'+datetime.today().strftime('%m-%d%H:%M:%S').replace('-',\"\")+ '.txt'\n",
    "    \telse:\n",
    "    \t\tfile_name = str(nombre)\n",
    "\n",
    "    \t# Lo creo de cero si no existe.\n",
    "    \t# Si existe de antes.... lo apendo.\n",
    "    \tif self.nombre_archivo is None:\n",
    "    \t\tself.nombre_archivo = file_name\n",
    "    \t\tescribe = open(str(self.nombre_archivo), 'w')\n",
    "    \telse:\n",
    "    \t\tescribe = open(str(self.nombre_archivo), 'a')\n",
    "\n",
    "    \tescribe.write('\\n' + message_to_print)\n",
    "    \tprint(message_to_print)"
   ]
  },
  {
   "cell_type": "code",
   "execution_count": 10,
   "id": "b0f43ade",
   "metadata": {},
   "outputs": [],
   "source": [
    "list_semana = ['Semana -10', 'Semana -9', 'Semana -8', 'Semana -7', 'Semana -6', 'Semana -5', 'Semana -4', 'Semana -3', 'Semana -2', 'Semana -1' ]\n",
    "Valpo['Semana comparacion'] = list_semana\n",
    "Valpo = Valpo[['Semana comparacion', 'Prom_Sem_Valp_Casos', 'Total_Valp_Casos', 'Velocidad_Valp_Casos',\n",
    "       'Prom_Sem_Valp_UCI', 'Total_Valp_UCI', 'Velocidad_Valp_UCI',\n",
    "       'Prom_Sem_Valp_Muertes', 'Total_Valp_Muertes', 'Velocidad_Valp_Muertes',\n",
    "       ]]"
   ]
  },
  {
   "cell_type": "code",
   "execution_count": 67,
   "id": "e47728b4-3d1f-4684-8df5-a0b59cbf566c",
   "metadata": {},
   "outputs": [
    {
     "name": "stdout",
     "output_type": "stream",
     "text": [
      "**Inicio Modulo Navegador**\n",
      "\n",
      "2022-05-15 &  Semana -10 &  414.1 &  2899.0 &  0.4 & 15.3 & 107.0 & -0.2 & 2.0 & 14.0 & -0.4 \\\\ 2022-05-22 &   Semana -9 &  626.7 &  4387.0 &  0.5 & 13.0 &  91.0 & -0.1 & 1.3 &  9.0 & -0.4 \\\\ 2022-05-29 &   Semana -8 &  870.3 &  6092.0 &  0.4 &  9.4 &  66.0 & -0.3 & 1.6 & 11.0 &  0.2 \\\\ 2022-06-05 &   Semana -7 &  966.7 &  6767.0 &  0.1 & 10.0 &  70.0 &  0.1 & 2.7 & 19.0 &  0.7 \\\\ 2022-06-12 &   Semana -6 & 1331.4 &  9320.0 &  0.4 &  9.7 &  68.0 & -0.0 & 2.9 & 20.0 &  0.1 \\\\ 2022-06-19 &   Semana -5 & 1525.7 & 10680.0 &  0.1 &  9.9 &  69.0 &  0.0 & 4.0 & 28.0 &  0.4 \\\\ 2022-06-26 &   Semana -4 & 1298.0 &  9086.0 & -0.1 & 10.0 &  70.0 &  0.0 & 3.0 & 21.0 & -0.2 \\\\ 2022-07-03 &   Semana -3 & 1151.9 &  8063.0 & -0.1 & 12.3 &  86.0 &  0.2 & 4.3 & 30.0 &  0.4 \\\\ 2022-07-10 &   Semana -2 &  948.1 &  6637.0 & -0.2 & 19.3 & 135.0 &  0.6 & 6.3 & 44.0 &  0.5 \\\\ 2022-07-17 &   Semana -1 &  755.7 &  5290.0 & -0.2 & 17.6 & 123.0 & -0.1 & 7.1 & 50.0 &  0.1 \\\\\n"
     ]
    }
   ],
   "source": [
    "import datetime as dt\n",
    "from datetime import datetime\n",
    "\n",
    "dum = Valpo.to_latex(float_format=\"%0.1f\", header = False, index_names = False)\n",
    "dum = dum.split('\\n')[slice(2,12)]\n",
    "\n",
    "nv = Navegador()\n",
    "nv.custom_print(\n",
    "    ' '.join(dum),\n",
    "    'Tabla1.tex')"
   ]
  },
  {
   "cell_type": "code",
   "execution_count": null,
   "id": "964d16de",
   "metadata": {},
   "outputs": [],
   "source": [
    "Chile"
   ]
  },
  {
   "cell_type": "code",
   "execution_count": null,
   "id": "7f1c23e2",
   "metadata": {
    "scrolled": true
   },
   "outputs": [],
   "source": [
    "informe_pais(NewCases,Deads,'Argentina')"
   ]
  },
  {
   "cell_type": "code",
   "execution_count": null,
   "id": "ca6ff37e",
   "metadata": {
    "scrolled": true
   },
   "outputs": [],
   "source": [
    "informe_pais(NewCases,Deads,'Peru')"
   ]
  }
 ],
 "metadata": {
  "kernelspec": {
   "display_name": "Python 3 (ipykernel)",
   "language": "python",
   "name": "python3"
  },
  "language_info": {
   "codemirror_mode": {
    "name": "ipython",
    "version": 3
   },
   "file_extension": ".py",
   "mimetype": "text/x-python",
   "name": "python",
   "nbconvert_exporter": "python",
   "pygments_lexer": "ipython3",
   "version": "3.9.2"
  }
 },
 "nbformat": 4,
 "nbformat_minor": 5
}
